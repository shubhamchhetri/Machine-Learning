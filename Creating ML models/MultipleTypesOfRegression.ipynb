{
 "cells": [
  {
   "cell_type": "code",
   "execution_count": 9,
   "metadata": {},
   "outputs": [],
   "source": [
    "import pandas as pd\n",
    "import matplotlib.pyplot as plt\n",
    "from sklearn.model_selection import train_test_split\n",
    "from sklearn.metrics import r2_score"
   ]
  },
  {
   "cell_type": "code",
   "execution_count": 2,
   "metadata": {},
   "outputs": [
    {
     "data": {
      "text/html": [
       "<div>\n",
       "<style scoped>\n",
       "    .dataframe tbody tr th:only-of-type {\n",
       "        vertical-align: middle;\n",
       "    }\n",
       "\n",
       "    .dataframe tbody tr th {\n",
       "        vertical-align: top;\n",
       "    }\n",
       "\n",
       "    .dataframe thead th {\n",
       "        text-align: right;\n",
       "    }\n",
       "</style>\n",
       "<table border=\"1\" class=\"dataframe\">\n",
       "  <thead>\n",
       "    <tr style=\"text-align: right;\">\n",
       "      <th></th>\n",
       "      <th>clarity</th>\n",
       "      <th>price</th>\n",
       "      <th>cut_Fair</th>\n",
       "      <th>cut_Good</th>\n",
       "      <th>cut_Ideal</th>\n",
       "      <th>cut_Premium</th>\n",
       "      <th>cut_Very Good</th>\n",
       "      <th>color_D</th>\n",
       "      <th>color_E</th>\n",
       "      <th>color_F</th>\n",
       "      <th>color_G</th>\n",
       "      <th>color_H</th>\n",
       "      <th>color_I</th>\n",
       "      <th>color_J</th>\n",
       "      <th>carat</th>\n",
       "      <th>depth</th>\n",
       "      <th>table</th>\n",
       "      <th>x</th>\n",
       "      <th>y</th>\n",
       "      <th>z</th>\n",
       "    </tr>\n",
       "  </thead>\n",
       "  <tbody>\n",
       "    <tr>\n",
       "      <td>0</td>\n",
       "      <td>6</td>\n",
       "      <td>16169</td>\n",
       "      <td>0</td>\n",
       "      <td>0</td>\n",
       "      <td>1</td>\n",
       "      <td>0</td>\n",
       "      <td>0</td>\n",
       "      <td>0</td>\n",
       "      <td>0</td>\n",
       "      <td>0</td>\n",
       "      <td>1</td>\n",
       "      <td>0</td>\n",
       "      <td>0</td>\n",
       "      <td>0</td>\n",
       "      <td>1.558717</td>\n",
       "      <td>-0.676749</td>\n",
       "      <td>-0.198716</td>\n",
       "      <td>1.526157</td>\n",
       "      <td>1.530827</td>\n",
       "      <td>1.433483</td>\n",
       "    </tr>\n",
       "    <tr>\n",
       "      <td>1</td>\n",
       "      <td>3</td>\n",
       "      <td>4715</td>\n",
       "      <td>0</td>\n",
       "      <td>0</td>\n",
       "      <td>0</td>\n",
       "      <td>1</td>\n",
       "      <td>0</td>\n",
       "      <td>0</td>\n",
       "      <td>0</td>\n",
       "      <td>0</td>\n",
       "      <td>0</td>\n",
       "      <td>0</td>\n",
       "      <td>0</td>\n",
       "      <td>1</td>\n",
       "      <td>0.841174</td>\n",
       "      <td>-1.032235</td>\n",
       "      <td>0.706374</td>\n",
       "      <td>1.035235</td>\n",
       "      <td>1.048276</td>\n",
       "      <td>0.901324</td>\n",
       "    </tr>\n",
       "    <tr>\n",
       "      <td>2</td>\n",
       "      <td>4</td>\n",
       "      <td>2810</td>\n",
       "      <td>0</td>\n",
       "      <td>0</td>\n",
       "      <td>0</td>\n",
       "      <td>0</td>\n",
       "      <td>1</td>\n",
       "      <td>0</td>\n",
       "      <td>0</td>\n",
       "      <td>1</td>\n",
       "      <td>0</td>\n",
       "      <td>0</td>\n",
       "      <td>0</td>\n",
       "      <td>0</td>\n",
       "      <td>-0.214037</td>\n",
       "      <td>-1.316624</td>\n",
       "      <td>1.158919</td>\n",
       "      <td>0.026614</td>\n",
       "      <td>0.083173</td>\n",
       "      <td>-0.091081</td>\n",
       "    </tr>\n",
       "    <tr>\n",
       "      <td>3</td>\n",
       "      <td>4</td>\n",
       "      <td>17765</td>\n",
       "      <td>0</td>\n",
       "      <td>0</td>\n",
       "      <td>0</td>\n",
       "      <td>1</td>\n",
       "      <td>0</td>\n",
       "      <td>0</td>\n",
       "      <td>0</td>\n",
       "      <td>0</td>\n",
       "      <td>1</td>\n",
       "      <td>0</td>\n",
       "      <td>0</td>\n",
       "      <td>0</td>\n",
       "      <td>1.938593</td>\n",
       "      <td>-1.672110</td>\n",
       "      <td>1.158919</td>\n",
       "      <td>1.892117</td>\n",
       "      <td>1.820358</td>\n",
       "      <td>1.606075</td>\n",
       "    </tr>\n",
       "    <tr>\n",
       "      <td>4</td>\n",
       "      <td>2</td>\n",
       "      <td>18026</td>\n",
       "      <td>1</td>\n",
       "      <td>0</td>\n",
       "      <td>0</td>\n",
       "      <td>0</td>\n",
       "      <td>0</td>\n",
       "      <td>0</td>\n",
       "      <td>0</td>\n",
       "      <td>0</td>\n",
       "      <td>0</td>\n",
       "      <td>1</td>\n",
       "      <td>0</td>\n",
       "      <td>0</td>\n",
       "      <td>3.204846</td>\n",
       "      <td>0.176418</td>\n",
       "      <td>2.064010</td>\n",
       "      <td>2.436594</td>\n",
       "      <td>2.250267</td>\n",
       "      <td>2.382739</td>\n",
       "    </tr>\n",
       "  </tbody>\n",
       "</table>\n",
       "</div>"
      ],
      "text/plain": [
       "   clarity  price  cut_Fair  cut_Good  cut_Ideal  cut_Premium  cut_Very Good  \\\n",
       "0        6  16169         0         0          1            0              0   \n",
       "1        3   4715         0         0          0            1              0   \n",
       "2        4   2810         0         0          0            0              1   \n",
       "3        4  17765         0         0          0            1              0   \n",
       "4        2  18026         1         0          0            0              0   \n",
       "\n",
       "   color_D  color_E  color_F  color_G  color_H  color_I  color_J     carat  \\\n",
       "0        0        0        0        1        0        0        0  1.558717   \n",
       "1        0        0        0        0        0        0        1  0.841174   \n",
       "2        0        0        1        0        0        0        0 -0.214037   \n",
       "3        0        0        0        1        0        0        0  1.938593   \n",
       "4        0        0        0        0        1        0        0  3.204846   \n",
       "\n",
       "      depth     table         x         y         z  \n",
       "0 -0.676749 -0.198716  1.526157  1.530827  1.433483  \n",
       "1 -1.032235  0.706374  1.035235  1.048276  0.901324  \n",
       "2 -1.316624  1.158919  0.026614  0.083173 -0.091081  \n",
       "3 -1.672110  1.158919  1.892117  1.820358  1.606075  \n",
       "4  0.176418  2.064010  2.436594  2.250267  2.382739  "
      ]
     },
     "execution_count": 2,
     "metadata": {},
     "output_type": "execute_result"
    }
   ],
   "source": [
    "data=pd.read_csv('C:/Users/shubham.chhetri/Desktop/MYPROJECT/Machine learning/Creating ML models/diamonds_processed.csv')\n",
    "data.head()"
   ]
  },
  {
   "cell_type": "code",
   "execution_count": 3,
   "metadata": {},
   "outputs": [],
   "source": [
    "from sklearn.linear_model import LinearRegression\n",
    "\n",
    "def linear_model(x_train,y_train):\n",
    "    \n",
    "    print(\"Linear Regression\")\n",
    "    linear_regression=LinearRegression()\n",
    "    linear_regression.fit(x_train,y_train)\n",
    "    \n",
    "    return linear_regression"
   ]
  },
  {
   "cell_type": "code",
   "execution_count": 13,
   "metadata": {},
   "outputs": [],
   "source": [
    "from sklearn.linear_model import Lasso\n",
    "\n",
    "def lasso_model(x_train,y_train):\n",
    "    \n",
    "    print(\"Lasso Regression\")\n",
    "    lasso_regression=Lasso(alpha=0.8,max_iter=10000)\n",
    "    lasso_regression.fit(x_train,y_train)\n",
    "    \n",
    "    return lasso_regression"
   ]
  },
  {
   "cell_type": "code",
   "execution_count": 15,
   "metadata": {},
   "outputs": [],
   "source": [
    "from sklearn.linear_model import Ridge\n",
    "\n",
    "def ridge_model(x_train,y_train):\n",
    "    \n",
    "    print(\"Ridge Regression\")\n",
    "    ridge_regression=Ridge(alpha=0.9)\n",
    "    ridge_regression.fit(x_train,y_train)\n",
    "    \n",
    "    return ridge_regression"
   ]
  },
  {
   "cell_type": "code",
   "execution_count": 16,
   "metadata": {},
   "outputs": [],
   "source": [
    "def build_and_train_model(data,target_name,reg_fn):\n",
    "    x=data.drop(target_name,axis=1)\n",
    "    y=data[target_name]\n",
    "    \n",
    "    x_train,x_test,y_train,y_test=train_test_split(x,y,test_size=0.2,random_state=0)\n",
    "    \n",
    "    model=reg_fn(x_train,y_train)\n",
    "    score=model.score(x_train,y_train)\n",
    "    print(\"Training score\",score)\n",
    "    \n",
    "    y_pred=model.predict(x_test)\n",
    "    r_score=r2_score(y_test,y_pred)\n",
    "    print(\"Testing score\",r_score)\n",
    "    \n",
    "    return {'model':model,'x_train':x_train,'x_test':x_test,'y_train':y_train,'y_test':y_test,'y_pred':y_pred}"
   ]
  },
  {
   "cell_type": "code",
   "execution_count": 17,
   "metadata": {},
   "outputs": [
    {
     "name": "stdout",
     "output_type": "stream",
     "text": [
      "Linear Regression\n",
      "Training score 0.9148500256871777\n",
      "Testing score 0.8451609774925155\n"
     ]
    }
   ],
   "source": [
    "linear_reg=build_and_train_model(data,\"price\",linear_model)"
   ]
  },
  {
   "cell_type": "code",
   "execution_count": 18,
   "metadata": {},
   "outputs": [
    {
     "name": "stdout",
     "output_type": "stream",
     "text": [
      "Lasso Regression\n",
      "Training score 0.914742751892353\n",
      "Testing score 0.8926151576586289\n"
     ]
    }
   ],
   "source": [
    "lasso_reg=build_and_train_model(data,\"price\",lasso_model)"
   ]
  },
  {
   "cell_type": "code",
   "execution_count": 19,
   "metadata": {},
   "outputs": [
    {
     "name": "stdout",
     "output_type": "stream",
     "text": [
      "Ridge Regression\n",
      "Training score 0.9148411739675816\n",
      "Testing score 0.8619694719042238\n"
     ]
    }
   ],
   "source": [
    "ridge_reg=build_and_train_model(data,\"price\",ridge_model)"
   ]
  },
  {
   "cell_type": "code",
   "execution_count": 20,
   "metadata": {},
   "outputs": [
    {
     "data": {
      "text/plain": [
       "LinearRegression()"
      ]
     },
     "execution_count": 20,
     "metadata": {},
     "output_type": "execute_result"
    }
   ],
   "source": [
    "linear_reg['model']"
   ]
  },
  {
   "cell_type": "markdown",
   "metadata": {},
   "source": [
    "Stochastic Gradient Descent"
   ]
  },
  {
   "cell_type": "code",
   "execution_count": 21,
   "metadata": {},
   "outputs": [],
   "source": [
    "from sklearn.linear_model import SGDRegressor\n",
    "\n",
    "def sgd_model(x_train,y_train):\n",
    "    \n",
    "    print(\"sgd Regression\")\n",
    "    sgd_regression=SGDRegressor(max_iter=2000)\n",
    "    sgd_regression.fit(x_train,y_train)\n",
    "    \n",
    "    return sgd_regression"
   ]
  },
  {
   "cell_type": "code",
   "execution_count": 22,
   "metadata": {},
   "outputs": [
    {
     "name": "stdout",
     "output_type": "stream",
     "text": [
      "sgd Regression\n",
      "Training score 0.9139646614223119\n",
      "Testing score 0.9090617376083043\n"
     ]
    }
   ],
   "source": [
    "sgd_reg=build_and_train_model(data,\"price\",sgd_model)"
   ]
  },
  {
   "cell_type": "code",
   "execution_count": null,
   "metadata": {},
   "outputs": [],
   "source": []
  }
 ],
 "metadata": {
  "kernelspec": {
   "display_name": "Python 3",
   "language": "python",
   "name": "python3"
  },
  "language_info": {
   "codemirror_mode": {
    "name": "ipython",
    "version": 3
   },
   "file_extension": ".py",
   "mimetype": "text/x-python",
   "name": "python",
   "nbconvert_exporter": "python",
   "pygments_lexer": "ipython3",
   "version": "3.7.4"
  }
 },
 "nbformat": 4,
 "nbformat_minor": 2
}
